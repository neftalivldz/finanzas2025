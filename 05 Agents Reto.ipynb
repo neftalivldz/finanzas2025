{
 "cells": [
  {
   "cell_type": "code",
   "execution_count": 61,
   "id": "e99826ae-a32a-4538-a3d3-78a2fd2d10cd",
   "metadata": {},
   "outputs": [],
   "source": [
    "#!pip install lseg.data\n",
    "#%pip install matplotlib\n",
    "#%pip install seaborn\n",
    "#%pip install pandas_datareader\n",
    "#%pip install google-generativeai\n",
    "#%pip install pyarrow\n"
   ]
  },
  {
   "cell_type": "code",
   "execution_count": 53,
   "id": "a805d5d1-5876-406a-8380-2d7910be5975",
   "metadata": {},
   "outputs": [],
   "source": [
    "import google.generativeai as genai\n",
    "import os\n",
    "import lseg.data as ld\n",
    "import pandas as pd\n",
    "import numpy as np\n",
    "import matplotlib.pyplot as plt\n",
    "%matplotlib inline\n",
    "import seaborn as sns\n",
    "#plt.style.use('dark_background')\n",
    "import warnings\n",
    "warnings.filterwarnings('ignore')\n",
    "\n",
    "from numpy.random import random, uniform, dirichlet, choice\n",
    "from numpy.linalg import inv\n",
    "from scipy.optimize import minimize\n",
    "from matplotlib.ticker import FuncFormatter\n",
    "import math\n",
    "from datetime import datetime, timedelta, date\n",
    "import pandas_datareader.data as web"
   ]
  },
  {
   "cell_type": "code",
   "execution_count": 5,
   "id": "6f1e2bd6-f82e-4dd2-a484-bf44d457c30a",
   "metadata": {},
   "outputs": [
    {
     "name": "stdout",
     "output_type": "stream",
     "text": [
      " Volume in drive C is Windows-SSD\n",
      " Volume Serial Number is 449C-EA33\n",
      "\n",
      " Directory of C:\\Users\\a_siq\\Documents\\finanzas\\finanzas2025\n",
      "\n",
      "03/25/2025  08:58 PM    <DIR>          .\n",
      "03/25/2025  08:55 PM    <DIR>          ..\n",
      "03/25/2025  08:55 PM    <DIR>          .ipynb_checkpoints\n",
      "03/24/2025  03:25 PM           206,784 01_Introduccion.ipynb\n",
      "03/24/2025  03:25 PM           392,575 02_Backtesting.ipynb\n",
      "03/24/2025  03:25 PM         1,262,689 03 Markowitz.ipynb\n",
      "03/24/2025  05:09 PM             5,067 04 Agents.ipynb\n",
      "03/25/2025  08:58 PM             7,299 05 Agents Reto.ipynb\n",
      "03/24/2025  03:25 PM                 0 1.0.0'\n",
      "03/24/2025  03:25 PM           121,282 clenow.pptx\n",
      "03/24/2025  03:25 PM            11,775 clenow_excel.xlsx\n",
      "03/24/2025  03:25 PM               108 conda\n",
      "03/24/2025  03:42 PM               843 credentials.ipynb\n",
      "03/24/2025  03:25 PM           169,755 PeerAnalysis.ipynb\n",
      "              11 File(s)      2,178,177 bytes\n",
      "               3 Dir(s)  403,847,987,200 bytes free\n"
     ]
    }
   ],
   "source": [
    "!dir"
   ]
  },
  {
   "cell_type": "code",
   "execution_count": 6,
   "id": "6ade3364-0f5d-4457-a1fe-d9d2329e6a0e",
   "metadata": {},
   "outputs": [],
   "source": [
    "import os\n",
    "os.environ[\"LD_LIB_CONFIG_PATH\"] = \"../configuration\""
   ]
  },
  {
   "cell_type": "code",
   "execution_count": 7,
   "id": "3eb5fb2f-8026-47c7-84fa-9bfaefd48542",
   "metadata": {},
   "outputs": [],
   "source": [
    "%run ../credentials.ipynb"
   ]
  },
  {
   "cell_type": "code",
   "execution_count": 57,
   "id": "6c736a3e-e738-4247-8ee2-fb087895aa5b",
   "metadata": {},
   "outputs": [],
   "source": [
    "GOOGLE_API_KEY = GOOGLE_KEY\n",
    "genai.configure(api_key=GOOGLE_API_KEY)\n"
   ]
  },
  {
   "cell_type": "code",
   "execution_count": 9,
   "id": "c27091a5-ad29-4f18-b224-7063a9c51316",
   "metadata": {},
   "outputs": [
    {
     "data": {
      "text/plain": [
       "<lseg.data.session.Definition object at 0x1f02d6b4c50 {name='workspace'}>"
      ]
     },
     "execution_count": 9,
     "metadata": {},
     "output_type": "execute_result"
    }
   ],
   "source": [
    "ld.open_session()"
   ]
  },
  {
   "cell_type": "code",
   "execution_count": 10,
   "id": "3bb0e0e4-d4cb-4906-8c08-ceae017986ba",
   "metadata": {},
   "outputs": [
    {
     "name": "stdout",
     "output_type": "stream",
     "text": [
      "Help on function get_history in module lseg.data._access_layer.get_history_func:\n",
      "\n",
      "get_history(universe: Union[str, Iterable[str]], fields: Union[str, Iterable[str], NoneType] = None, interval: Optional[str] = None, start: 'OptDateTime' = None, end: 'OptDateTime' = None, adjustments: Optional[str] = None, count: Optional[int] = None, parameters: Union[str, dict, NoneType] = None, header_type: lseg.data.content._header_type.HeaderType = <HeaderType.TITLE: 2>) -> pandas.core.frame.DataFrame\n",
      "    Retrieves the pricing history, as well as Fundamental and Reference data history.\n",
      "    \n",
      "    Parameters\n",
      "    ----------\n",
      "    universe: str | list\n",
      "        Instruments to request\n",
      "    fields: str | list, optional\n",
      "        Fields to request\n",
      "    interval: str, optional\n",
      "        Date interval. Supported intervals are:\n",
      "        tick, tas, taq, minute, 1min, 5min, 10min, 30min, 60min, hourly, 1h, daily,\n",
      "        1d, 1D, 7D, 7d, weekly, 1W, monthly, 1M, quarterly, 3M, 6M, yearly, 1Y\n",
      "    start: str or date or datetime or timedelta, optional\n",
      "        The start date and timestamp of the requested history\n",
      "    end: str or date or datetime or timedelta, optional\n",
      "        The end date and timestamp of the requested history\n",
      "    adjustments : str, optional\n",
      "        Tells the system whether to apply or not apply CORAX (Corporate Actions)\n",
      "        events or exchange/manual corrections or price and volume adjustment\n",
      "        according to trade/quote qualifier summarization actions to historical time\n",
      "        series data. Possible values are:\n",
      "        exchangeCorrection, manualCorrection, CCH, CRE, RTS, RPO, unadjusted,\n",
      "        qualifiers\n",
      "    count : int, optional\n",
      "        The maximum number of data points returned. Values range: 1 - 10000.\n",
      "        Applies only to pricing fields.\n",
      "    parameters: str | dict, optional\n",
      "        Single global parameter key=value or dictionary\n",
      "        of global parameters to request.\n",
      "        Applies only to TR fields.\n",
      "    header_type: HeaderType, default HeaderType.TITLE\n",
      "        If HeaderType.TITLE - returns field title as column headers for data\n",
      "        If HeaderType.NAME - returns field name as column headers for data\n",
      "        If HeaderType.NAME_AND_TITLE - returns field name and title as column headers for data\n",
      "    \n",
      "    Returns\n",
      "    -------\n",
      "    pandas.DataFrame\n",
      "    \n",
      "    Examples\n",
      "    --------\n",
      "    >>> get_history(universe=\"GOOG.O\")\n",
      "    >>> get_history(universe=\"GOOG.O\", fields=\"tr.Revenue\", interval=\"1Y\")\n",
      "    >>> get_history(\n",
      "    ...     universe=\"GOOG.O\",\n",
      "    ...     fields=[\"BID\", \"ASK\", \"tr.Revenue\"],\n",
      "    ...     interval=\"1Y\",\n",
      "    ...     start=\"2015-01-01\",\n",
      "    ...     end=\"2020-10-01\",\n",
      "    ... )\n",
      "\n"
     ]
    }
   ],
   "source": [
    "help(ld.get_history)"
   ]
  },
  {
   "cell_type": "code",
   "execution_count": 37,
   "id": "688dbb94-07bc-4a4b-8ae5-c124e762da91",
   "metadata": {},
   "outputs": [],
   "source": [
    "MODEL_ID = \"gemini-2.0-flash\" # @param [\"gemini-1.5-flash-latest\",\"gemini-2.0-flash-lite\",\"gemini-2.0-flash\",\"gemini-2.0-pro-exp-02-05\"] {\"allow-input\":true, isTemplate: true}\n"
   ]
  },
  {
   "cell_type": "code",
   "execution_count": 12,
   "id": "8d05d7db-173a-4d0b-9260-c395ff0fab16",
   "metadata": {},
   "outputs": [],
   "source": [
    "operation_tools = [ld.get_history]"
   ]
  },
  {
   "cell_type": "code",
   "execution_count": 36,
   "id": "1dc1a635-9789-4132-918c-1683ffde8599",
   "metadata": {},
   "outputs": [],
   "source": [
    "chat = client.chats.create(\n",
    "    model = MODEL_ID,\n",
    "    config = {\n",
    "        \"tools\": operation_tools,\n",
    "        \"automatic_function_calling\": {\"disable\": False} # This line is not needed as automatic_function_calling is enabled by default\n",
    "    }\n",
    ")"
   ]
  },
  {
   "cell_type": "code",
   "execution_count": null,
   "id": "dc1a7ce4-37cc-4863-bba9-888e3170a098",
   "metadata": {},
   "outputs": [],
   "source": [
    "response = chat.send_message(\n",
    "    \"Get the dateaframe with timeseries for close price on the list [NVDA.O], starting January 1st 2025 and ending today\"\n",
    ")\n"
   ]
  },
  {
   "cell_type": "code",
   "execution_count": 41,
   "id": "df67408b-d26f-49a6-abb8-e756b1934280",
   "metadata": {},
   "outputs": [
    {
     "name": "stdout",
     "output_type": "stream",
     "text": [
      "2015-03-28 21:41:55.078782 2025-03-25 21:41:55.078782\n"
     ]
    }
   ],
   "source": [
    "import datetime as dt\n",
    "today = dt.datetime.today()\n",
    "delta_day = today - dt.timedelta(days=365*10)\n",
    "print(delta_day, today)"
   ]
  },
  {
   "cell_type": "code",
   "execution_count": 62,
   "id": "65edef6c-8fbc-47d4-8e15-ab76d921e9b4",
   "metadata": {},
   "outputs": [
    {
     "data": {
      "text/plain": [
       "'pandas file written to df.paquet.gzip'"
      ]
     },
     "execution_count": 62,
     "metadata": {},
     "output_type": "execute_result"
    }
   ],
   "source": [
    "def get_timeseries_from_refinitiv(RIC: str):\n",
    "    \"\"\"\n",
    "    Retrieves the pricing history, of a specific RIC.\n",
    "    \n",
    "    Parameters\n",
    "    ----------\n",
    "    RIC: str \n",
    "    \n",
    "    Returns\n",
    "    -------\n",
    "    pandas.DataFrame\n",
    "    \"\"\"\n",
    "    df = ld.get_history(RIC, fields = ['TR.PriceClose'],\n",
    "                          start = delta_day, \n",
    "                          end = today, \n",
    "                          interval=\"daily\")\n",
    "    df.to_parquet('df.parquet.gzip',\n",
    "              compression='gzip')\n",
    "    return 'pandas file written to df.paquet.gzip'\n",
    "get_timeseries_from_refinitiv('NVDA.O')"
   ]
  },
  {
   "cell_type": "code",
   "execution_count": 63,
   "id": "1d8284a5-b641-4eef-8001-c3543d649c92",
   "metadata": {},
   "outputs": [
    {
     "data": {
      "text/html": [
       "<div>\n",
       "<style scoped>\n",
       "    .dataframe tbody tr th:only-of-type {\n",
       "        vertical-align: middle;\n",
       "    }\n",
       "\n",
       "    .dataframe tbody tr th {\n",
       "        vertical-align: top;\n",
       "    }\n",
       "\n",
       "    .dataframe thead th {\n",
       "        text-align: right;\n",
       "    }\n",
       "</style>\n",
       "<table border=\"1\" class=\"dataframe\">\n",
       "  <thead>\n",
       "    <tr style=\"text-align: right;\">\n",
       "      <th>NVDA.O</th>\n",
       "      <th>Price Close</th>\n",
       "    </tr>\n",
       "    <tr>\n",
       "      <th>Date</th>\n",
       "      <th></th>\n",
       "    </tr>\n",
       "  </thead>\n",
       "  <tbody>\n",
       "    <tr>\n",
       "      <th>2015-03-30</th>\n",
       "      <td>0.53675</td>\n",
       "    </tr>\n",
       "    <tr>\n",
       "      <th>2015-03-31</th>\n",
       "      <td>0.523125</td>\n",
       "    </tr>\n",
       "    <tr>\n",
       "      <th>2015-04-01</th>\n",
       "      <td>0.52525</td>\n",
       "    </tr>\n",
       "    <tr>\n",
       "      <th>2015-04-02</th>\n",
       "      <td>0.5265</td>\n",
       "    </tr>\n",
       "    <tr>\n",
       "      <th>2015-04-06</th>\n",
       "      <td>0.541625</td>\n",
       "    </tr>\n",
       "    <tr>\n",
       "      <th>...</th>\n",
       "      <td>...</td>\n",
       "    </tr>\n",
       "    <tr>\n",
       "      <th>2025-03-19</th>\n",
       "      <td>117.52</td>\n",
       "    </tr>\n",
       "    <tr>\n",
       "      <th>2025-03-20</th>\n",
       "      <td>118.53</td>\n",
       "    </tr>\n",
       "    <tr>\n",
       "      <th>2025-03-21</th>\n",
       "      <td>117.7</td>\n",
       "    </tr>\n",
       "    <tr>\n",
       "      <th>2025-03-24</th>\n",
       "      <td>121.41</td>\n",
       "    </tr>\n",
       "    <tr>\n",
       "      <th>2025-03-25</th>\n",
       "      <td>120.69</td>\n",
       "    </tr>\n",
       "  </tbody>\n",
       "</table>\n",
       "<p>2513 rows × 1 columns</p>\n",
       "</div>"
      ],
      "text/plain": [
       "NVDA.O      Price Close\n",
       "Date                   \n",
       "2015-03-30      0.53675\n",
       "2015-03-31     0.523125\n",
       "2015-04-01      0.52525\n",
       "2015-04-02       0.5265\n",
       "2015-04-06     0.541625\n",
       "...                 ...\n",
       "2025-03-19       117.52\n",
       "2025-03-20       118.53\n",
       "2025-03-21        117.7\n",
       "2025-03-24       121.41\n",
       "2025-03-25       120.69\n",
       "\n",
       "[2513 rows x 1 columns]"
      ]
     },
     "execution_count": 63,
     "metadata": {},
     "output_type": "execute_result"
    }
   ],
   "source": [
    "pd.read_parquet('df.parquet.gzip') "
   ]
  },
  {
   "cell_type": "code",
   "execution_count": 43,
   "id": "6414db04-c2a3-4b40-b8e7-1aa52591c608",
   "metadata": {},
   "outputs": [],
   "source": [
    "operation_tools = [get_timeseries_from_refinitiv]"
   ]
  },
  {
   "cell_type": "code",
   "execution_count": 64,
   "id": "3329c703-6ae3-4f80-bafa-ccf9de012bd0",
   "metadata": {},
   "outputs": [],
   "source": [
    "# These are the Python functions defined above.\n",
    "operation_tools = [get_timeseries_from_refinitiv]\n",
    "\n",
    "instruction = \"\"\"You are a helpful chatbot that can interact with an python environment and create pandas dataframes. \n",
    "You will take the users questions and turn them into parameters that you will pass to the tools\n",
    "available. Once you have the information you need, you will answer the user's question returning the answer of the function. \n",
    "Use get_timeseries_from_refinitiv to return a pandas dataframe associated with the RIC specified.\"\"\"\n",
    "\n",
    "model = genai.GenerativeModel(\n",
    "    \"models/gemini-1.5-flash-latest\", tools=operation_tools, system_instruction=instruction\n",
    ")\n",
    "\n",
    "# Define a retry policy. The model might make multiple consecutive calls automatically\n",
    "# for a complex query, this ensures the client retries if it hits quota limits.\n",
    "from google.api_core import retry\n",
    "\n",
    "retry_policy = {\"retry\": retry.Retry(predicate=retry.if_transient_error)}\n",
    "\n",
    "# Start a chat with automatic function calling enabled.\n",
    "chat = model.start_chat(enable_automatic_function_calling=True)"
   ]
  },
  {
   "cell_type": "code",
   "execution_count": 67,
   "id": "1605c95f-52cc-46bf-999a-56d661637645",
   "metadata": {},
   "outputs": [],
   "source": [
    "response = chat.send_message(\n",
    "    \"Get the dateaframe with timeseries for the RIC MSFT.O\"\n",
    ")"
   ]
  },
  {
   "cell_type": "code",
   "execution_count": 68,
   "id": "776b910c-8068-4295-bf2d-7e1996885b1a",
   "metadata": {},
   "outputs": [
    {
     "name": "stdout",
     "output_type": "stream",
     "text": [
      "response:\n",
      "GenerateContentResponse(\n",
      "    done=True,\n",
      "    iterator=None,\n",
      "    result=protos.GenerateContentResponse({\n",
      "      \"candidates\": [\n",
      "        {\n",
      "          \"content\": {\n",
      "            \"parts\": [\n",
      "              {\n",
      "                \"text\": \"The dataframe with timeseries for the RIC MSFT.O has been generated and saved to `df.parquet.gzip`.\\n\"\n",
      "              }\n",
      "            ],\n",
      "            \"role\": \"model\"\n",
      "          },\n",
      "          \"finish_reason\": \"STOP\",\n",
      "          \"avg_logprobs\": -0.0020174537427150286\n",
      "        }\n",
      "      ],\n",
      "      \"usage_metadata\": {\n",
      "        \"prompt_token_count\": 270,\n",
      "        \"candidates_token_count\": 26,\n",
      "        \"total_token_count\": 296\n",
      "      },\n",
      "      \"model_version\": \"gemini-1.5-flash-latest\"\n",
      "    }),\n",
      ")\n"
     ]
    }
   ],
   "source": [
    "print(response)"
   ]
  },
  {
   "cell_type": "code",
   "execution_count": 69,
   "id": "27eecb0b-8cea-4028-9d70-8432edd01dbb",
   "metadata": {},
   "outputs": [
    {
     "data": {
      "text/html": [
       "<div>\n",
       "<style scoped>\n",
       "    .dataframe tbody tr th:only-of-type {\n",
       "        vertical-align: middle;\n",
       "    }\n",
       "\n",
       "    .dataframe tbody tr th {\n",
       "        vertical-align: top;\n",
       "    }\n",
       "\n",
       "    .dataframe thead th {\n",
       "        text-align: right;\n",
       "    }\n",
       "</style>\n",
       "<table border=\"1\" class=\"dataframe\">\n",
       "  <thead>\n",
       "    <tr style=\"text-align: right;\">\n",
       "      <th>MSFT.O</th>\n",
       "      <th>Price Close</th>\n",
       "    </tr>\n",
       "    <tr>\n",
       "      <th>Date</th>\n",
       "      <th></th>\n",
       "    </tr>\n",
       "  </thead>\n",
       "  <tbody>\n",
       "    <tr>\n",
       "      <th>2015-03-30</th>\n",
       "      <td>40.96</td>\n",
       "    </tr>\n",
       "    <tr>\n",
       "      <th>2015-03-31</th>\n",
       "      <td>40.655</td>\n",
       "    </tr>\n",
       "    <tr>\n",
       "      <th>2015-04-01</th>\n",
       "      <td>40.72</td>\n",
       "    </tr>\n",
       "    <tr>\n",
       "      <th>2015-04-02</th>\n",
       "      <td>40.29</td>\n",
       "    </tr>\n",
       "    <tr>\n",
       "      <th>2015-04-06</th>\n",
       "      <td>41.545</td>\n",
       "    </tr>\n",
       "    <tr>\n",
       "      <th>...</th>\n",
       "      <td>...</td>\n",
       "    </tr>\n",
       "    <tr>\n",
       "      <th>2025-03-19</th>\n",
       "      <td>387.82</td>\n",
       "    </tr>\n",
       "    <tr>\n",
       "      <th>2025-03-20</th>\n",
       "      <td>386.84</td>\n",
       "    </tr>\n",
       "    <tr>\n",
       "      <th>2025-03-21</th>\n",
       "      <td>391.26</td>\n",
       "    </tr>\n",
       "    <tr>\n",
       "      <th>2025-03-24</th>\n",
       "      <td>393.08</td>\n",
       "    </tr>\n",
       "    <tr>\n",
       "      <th>2025-03-25</th>\n",
       "      <td>395.16</td>\n",
       "    </tr>\n",
       "  </tbody>\n",
       "</table>\n",
       "<p>2513 rows × 1 columns</p>\n",
       "</div>"
      ],
      "text/plain": [
       "MSFT.O      Price Close\n",
       "Date                   \n",
       "2015-03-30        40.96\n",
       "2015-03-31       40.655\n",
       "2015-04-01        40.72\n",
       "2015-04-02        40.29\n",
       "2015-04-06       41.545\n",
       "...                 ...\n",
       "2025-03-19       387.82\n",
       "2025-03-20       386.84\n",
       "2025-03-21       391.26\n",
       "2025-03-24       393.08\n",
       "2025-03-25       395.16\n",
       "\n",
       "[2513 rows x 1 columns]"
      ]
     },
     "execution_count": 69,
     "metadata": {},
     "output_type": "execute_result"
    }
   ],
   "source": [
    "pd.read_parquet('df.parquet.gzip') "
   ]
  },
  {
   "cell_type": "code",
   "execution_count": null,
   "id": "84c51ad9-cd03-4df6-b257-86d7b15fb058",
   "metadata": {},
   "outputs": [],
   "source": []
  }
 ],
 "metadata": {
  "kernelspec": {
   "display_name": "Python 3 (ipykernel)",
   "language": "python",
   "name": "python3"
  },
  "language_info": {
   "codemirror_mode": {
    "name": "ipython",
    "version": 3
   },
   "file_extension": ".py",
   "mimetype": "text/x-python",
   "name": "python",
   "nbconvert_exporter": "python",
   "pygments_lexer": "ipython3",
   "version": "3.11.11"
  }
 },
 "nbformat": 4,
 "nbformat_minor": 5
}
