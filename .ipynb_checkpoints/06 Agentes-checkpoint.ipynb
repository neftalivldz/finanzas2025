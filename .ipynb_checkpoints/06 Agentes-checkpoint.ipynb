{
 "cells": [
  {
   "cell_type": "code",
   "execution_count": 1,
   "id": "bf1bca6e-7fb8-42ea-b294-3d33fbb52e5e",
   "metadata": {},
   "outputs": [],
   "source": [
    "import google.generativeai as genai\n",
    "import os\n",
    "import lseg.data as ld\n",
    "import pandas as pd\n",
    "import numpy as np\n",
    "import matplotlib.pyplot as plt\n",
    "%matplotlib inline\n",
    "import seaborn as sns\n",
    "#plt.style.use('dark_background')\n",
    "import warnings\n",
    "warnings.filterwarnings('ignore')\n",
    "\n",
    "from numpy.random import random, uniform, dirichlet, choice\n",
    "from numpy.linalg import inv\n",
    "from scipy.optimize import minimize\n",
    "from matplotlib.ticker import FuncFormatter\n",
    "import math\n",
    "from datetime import datetime, timedelta, date\n",
    "import pandas_datareader.data as web"
   ]
  },
  {
   "cell_type": "code",
   "execution_count": 2,
   "id": "5abc3dee-2067-4722-afa2-f41e716a03fd",
   "metadata": {},
   "outputs": [],
   "source": [
    "import os\n",
    "os.environ[\"LD_LIB_CONFIG_PATH\"] = \"../configuration\""
   ]
  },
  {
   "cell_type": "code",
   "execution_count": 3,
   "id": "525443e6-4e8d-45fc-91f1-edcc237089f2",
   "metadata": {},
   "outputs": [],
   "source": [
    "%run ../credentials.ipynb"
   ]
  },
  {
   "cell_type": "code",
   "execution_count": 4,
   "id": "f26aed84-2311-4f78-b164-0189e3402e9e",
   "metadata": {},
   "outputs": [],
   "source": [
    "GOOGLE_API_KEY = GOOGLE_KEY\n",
    "genai.configure(api_key=GOOGLE_API_KEY)\n"
   ]
  },
  {
   "cell_type": "code",
   "execution_count": 5,
   "id": "8b2cf029-0ac6-43da-9ebc-41d3838f3c5e",
   "metadata": {},
   "outputs": [
    {
     "name": "stderr",
     "output_type": "stream",
     "text": [
      "An error occurred while requesting URL('http://localhost:9000/api/status').\n",
      "\tConnectError('[WinError 10061] No connection could be made because the target machine actively refused it')\n",
      "An error occurred while requesting URL('http://localhost:9000/api/status').\n",
      "\tConnectError('[WinError 10061] No connection could be made because the target machine actively refused it')\n",
      "An error occurred while requesting URL('http://localhost:9060/api/status').\n",
      "\tConnectError('[WinError 10061] No connection could be made because the target machine actively refused it')\n",
      "Error: no proxy address identified.\n",
      "Check if Desktop is running.\n",
      "An error occurred while requesting URL('http://localhost:9000/api/handshake').\n",
      "\tConnectError('[WinError 10061] No connection could be made because the target machine actively refused it')\n",
      "Error on handshake url http://localhost:9000/api/handshake : ConnectError('[WinError 10061] No connection could be made because the target machine actively refused it')\n"
     ]
    },
    {
     "data": {
      "text/plain": [
       "<lseg.data.session.Definition object at 0x29aa32a1590 {name='workspace'}>"
      ]
     },
     "execution_count": 5,
     "metadata": {},
     "output_type": "execute_result"
    }
   ],
   "source": [
    "ld.open_session()"
   ]
  },
  {
   "cell_type": "code",
   "execution_count": 6,
   "id": "20bd2456-7ee7-4267-89e1-80148fd7fb59",
   "metadata": {},
   "outputs": [
    {
     "name": "stdout",
     "output_type": "stream",
     "text": [
      "2023-03-28 19:29:50.877829 2025-03-27 19:29:50.877829\n"
     ]
    }
   ],
   "source": [
    "import datetime as dt\n",
    "today = dt.datetime.today()\n",
    "delta_day = today - dt.timedelta(days=365*2)\n",
    "print(delta_day, today)"
   ]
  },
  {
   "cell_type": "code",
   "execution_count": 7,
   "id": "3edc1834-d1f2-4e31-afe3-58101fb4bc45",
   "metadata": {},
   "outputs": [],
   "source": [
    "def get_timeseries_from_refinitiv(RIC: str, nombre: str):\n",
    "    \"\"\"\n",
    "    Retrieves the pricing history, of a specific RIC and writes to the location nombre.\n",
    "    \n",
    "    Parameters\n",
    "    ----------\n",
    "    RIC: str \n",
    "    nombre: str\n",
    "    \n",
    "    Returns\n",
    "    -------\n",
    "    location of a pandas.DataFrame\n",
    "    \"\"\"\n",
    "    df = ld.get_history(RIC, fields = ['TR.PriceClose'],\n",
    "                          start = delta_day, \n",
    "                          end = today, \n",
    "                          interval=\"daily\")\n",
    "    df.to_parquet(nombre, compression='gzip')\n",
    "    return f\"pandas file written to {nombre}\"\n"
   ]
  },
  {
   "cell_type": "code",
   "execution_count": 8,
   "id": "4b6e7e44-d629-491a-81bd-59d470bf6fb9",
   "metadata": {},
   "outputs": [
    {
     "name": "stderr",
     "output_type": "stream",
     "text": [
      "Session is not opened. Can't send any request\n"
     ]
    },
    {
     "ename": "ValueError",
     "evalue": "Session is not opened. Can't send any request",
     "output_type": "error",
     "traceback": [
      "\u001b[1;31m---------------------------------------------------------------------------\u001b[0m",
      "\u001b[1;31mValueError\u001b[0m                                Traceback (most recent call last)",
      "Cell \u001b[1;32mIn[8], line 1\u001b[0m\n\u001b[1;32m----> 1\u001b[0m get_timeseries_from_refinitiv(\u001b[38;5;124m'\u001b[39m\u001b[38;5;124mNVDA.O\u001b[39m\u001b[38;5;124m'\u001b[39m, \u001b[38;5;124m'\u001b[39m\u001b[38;5;124mNVDA\u001b[39m\u001b[38;5;124m'\u001b[39m)\n",
      "Cell \u001b[1;32mIn[7], line 14\u001b[0m, in \u001b[0;36mget_timeseries_from_refinitiv\u001b[1;34m(RIC, nombre)\u001b[0m\n\u001b[0;32m      1\u001b[0m \u001b[38;5;28;01mdef\u001b[39;00m \u001b[38;5;21mget_timeseries_from_refinitiv\u001b[39m(RIC: \u001b[38;5;28mstr\u001b[39m, nombre: \u001b[38;5;28mstr\u001b[39m):\n\u001b[0;32m      2\u001b[0m \u001b[38;5;250m    \u001b[39m\u001b[38;5;124;03m\"\"\"\u001b[39;00m\n\u001b[0;32m      3\u001b[0m \u001b[38;5;124;03m    Retrieves the pricing history, of a specific RIC and writes to the location nombre.\u001b[39;00m\n\u001b[0;32m      4\u001b[0m \u001b[38;5;124;03m    \u001b[39;00m\n\u001b[1;32m   (...)\u001b[0m\n\u001b[0;32m     12\u001b[0m \u001b[38;5;124;03m    location of a pandas.DataFrame\u001b[39;00m\n\u001b[0;32m     13\u001b[0m \u001b[38;5;124;03m    \"\"\"\u001b[39;00m\n\u001b[1;32m---> 14\u001b[0m     df \u001b[38;5;241m=\u001b[39m ld\u001b[38;5;241m.\u001b[39mget_history(RIC, fields \u001b[38;5;241m=\u001b[39m [\u001b[38;5;124m'\u001b[39m\u001b[38;5;124mTR.PriceClose\u001b[39m\u001b[38;5;124m'\u001b[39m],\n\u001b[0;32m     15\u001b[0m                           start \u001b[38;5;241m=\u001b[39m delta_day, \n\u001b[0;32m     16\u001b[0m                           end \u001b[38;5;241m=\u001b[39m today, \n\u001b[0;32m     17\u001b[0m                           interval\u001b[38;5;241m=\u001b[39m\u001b[38;5;124m\"\u001b[39m\u001b[38;5;124mdaily\u001b[39m\u001b[38;5;124m\"\u001b[39m)\n\u001b[0;32m     18\u001b[0m     df\u001b[38;5;241m.\u001b[39mto_parquet(nombre, compression\u001b[38;5;241m=\u001b[39m\u001b[38;5;124m'\u001b[39m\u001b[38;5;124mgzip\u001b[39m\u001b[38;5;124m'\u001b[39m)\n\u001b[0;32m     19\u001b[0m     \u001b[38;5;28;01mreturn\u001b[39;00m \u001b[38;5;124mf\u001b[39m\u001b[38;5;124m\"\u001b[39m\u001b[38;5;124mpandas file written to \u001b[39m\u001b[38;5;132;01m{\u001b[39;00mnombre\u001b[38;5;132;01m}\u001b[39;00m\u001b[38;5;124m\"\u001b[39m\n",
      "File \u001b[1;32m~\\AppData\\Roaming\\Python\\Python311\\site-packages\\lseg\\data\\_access_layer\\get_history_func.py:88\u001b[0m, in \u001b[0;36mget_history\u001b[1;34m(universe, fields, interval, start, end, adjustments, count, parameters, header_type)\u001b[0m\n\u001b[0;32m     35\u001b[0m \u001b[38;5;250m\u001b[39m\u001b[38;5;124;03m\"\"\"\u001b[39;00m\n\u001b[0;32m     36\u001b[0m \u001b[38;5;124;03mRetrieves the pricing history, as well as Fundamental and Reference data history.\u001b[39;00m\n\u001b[0;32m     37\u001b[0m \n\u001b[1;32m   (...)\u001b[0m\n\u001b[0;32m     85\u001b[0m \u001b[38;5;124;03m... )\u001b[39;00m\n\u001b[0;32m     86\u001b[0m \u001b[38;5;124;03m\"\"\"\u001b[39;00m\n\u001b[0;32m     87\u001b[0m session \u001b[38;5;241m=\u001b[39m get_default()\n\u001b[1;32m---> 88\u001b[0m raise_if_closed(session)\n\u001b[0;32m     89\u001b[0m logger \u001b[38;5;241m=\u001b[39m session\u001b[38;5;241m.\u001b[39mlogger()\n\u001b[0;32m     91\u001b[0m \u001b[38;5;28;01mif\u001b[39;00m interval \u001b[38;5;129;01mis\u001b[39;00m \u001b[38;5;129;01mnot\u001b[39;00m \u001b[38;5;28;01mNone\u001b[39;00m \u001b[38;5;129;01mand\u001b[39;00m interval \u001b[38;5;129;01mnot\u001b[39;00m \u001b[38;5;129;01min\u001b[39;00m INTERVALS:\n",
      "File \u001b[1;32m~\\AppData\\Roaming\\Python\\Python311\\site-packages\\lseg\\data\\_core\\session\\tools.py:36\u001b[0m, in \u001b[0;36mraise_if_closed\u001b[1;34m(session)\u001b[0m\n\u001b[0;32m     34\u001b[0m error_message \u001b[38;5;241m=\u001b[39m \u001b[38;5;124m\"\u001b[39m\u001b[38;5;124mSession is not opened. Can\u001b[39m\u001b[38;5;124m'\u001b[39m\u001b[38;5;124mt send any request\u001b[39m\u001b[38;5;124m\"\u001b[39m\n\u001b[0;32m     35\u001b[0m session\u001b[38;5;241m.\u001b[39merror(error_message)\n\u001b[1;32m---> 36\u001b[0m \u001b[38;5;28;01mraise\u001b[39;00m \u001b[38;5;167;01mValueError\u001b[39;00m(error_message)\n",
      "\u001b[1;31mValueError\u001b[0m: Session is not opened. Can't send any request"
     ]
    }
   ],
   "source": [
    "get_timeseries_from_refinitiv('NVDA.O', 'NVDA')"
   ]
  },
  {
   "cell_type": "code",
   "execution_count": null,
   "id": "53946f34-4377-4da8-a673-8aa43d96d903",
   "metadata": {},
   "outputs": [],
   "source": [
    "pd.read_parquet('df.parquet.gzip') "
   ]
  }
 ],
 "metadata": {
  "kernelspec": {
   "display_name": "Python 3 (ipykernel)",
   "language": "python",
   "name": "python3"
  },
  "language_info": {
   "codemirror_mode": {
    "name": "ipython",
    "version": 3
   },
   "file_extension": ".py",
   "mimetype": "text/x-python",
   "name": "python",
   "nbconvert_exporter": "python",
   "pygments_lexer": "ipython3",
   "version": "3.11.11"
  }
 },
 "nbformat": 4,
 "nbformat_minor": 5
}
