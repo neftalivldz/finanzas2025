{
 "cells": [
  {
   "cell_type": "code",
   "execution_count": null,
   "id": "df741dd5-cd85-4a7c-9ed6-bfb06fdbfdfa",
   "metadata": {},
   "outputs": [],
   "source": []
  },
  {
   "cell_type": "code",
   "execution_count": null,
   "id": "266f661e-1181-4f76-bb26-2d5ad80d6ba8",
   "metadata": {},
   "outputs": [],
   "source": [
    "import PyPDF2\n",
    "import streamlit as st\n",
    "from sentence_transformers import SentenceTransformer\n",
    "import chromadb\n",
    "from litellm import completion\n",
    "from langchain.text_splitter import RecursiveCharacterTextSplitter\n",
    "from langchain_community.tools import ArxivQueryRun\n",
    "from dotenv import load_dotenv\n",
    " \n",
    "load_dotenv()\n",
    "gemini_api_key = os.getenv(\"GEMINI_API_KEY\")\n",
    "huggingface_token = os.getenv(\"HUGGINGFACE_TOKEN\")\n",
    " \n",
    "if huggingface_token:\n",
    "    login(token=huggingface_token)"
   ]
  }
 ],
 "metadata": {
  "kernelspec": {
   "display_name": "Python 3 (ipykernel)",
   "language": "python",
   "name": "python3"
  },
  "language_info": {
   "codemirror_mode": {
    "name": "ipython",
    "version": 3
   },
   "file_extension": ".py",
   "mimetype": "text/x-python",
   "name": "python",
   "nbconvert_exporter": "python",
   "pygments_lexer": "ipython3",
   "version": "3.11.12"
  }
 },
 "nbformat": 4,
 "nbformat_minor": 5
}
