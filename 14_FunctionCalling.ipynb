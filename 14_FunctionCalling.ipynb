{
 "cells": [
  {
   "cell_type": "markdown",
   "id": "993a24b3-16b9-40de-9629-dca4b3726134",
   "metadata": {},
   "source": [
    "## Function calling\n",
    "https://github.com/google-gemini/cookbook/blob/main/quickstarts/Function_calling.ipynb"
   ]
  },
  {
   "cell_type": "code",
   "execution_count": 1,
   "id": "6993aec5-c113-49ed-bcc4-8e4c407bca50",
   "metadata": {},
   "outputs": [
    {
     "name": "stdout",
     "output_type": "stream",
     "text": [
      "Note: you may need to restart the kernel to use updated packages.\n"
     ]
    }
   ],
   "source": [
    "%pip install -qU 'google-genai>1.0.0'\n"
   ]
  },
  {
   "cell_type": "code",
   "execution_count": 5,
   "id": "8cbfce71-eb11-488c-9b3c-2f2a6ca7e0fe",
   "metadata": {},
   "outputs": [],
   "source": [
    "from google import genai\n",
    "import os"
   ]
  },
  {
   "cell_type": "code",
   "execution_count": 6,
   "id": "bda39d3b-d935-4a52-b7ba-661eecf43123",
   "metadata": {},
   "outputs": [],
   "source": [
    "os.environ[\"LD_LIB_CONFIG_PATH\"] = \"../../Configuration\"\n"
   ]
  },
  {
   "cell_type": "code",
   "execution_count": 7,
   "id": "2634e2dd-2b14-4fba-9443-7c697d914972",
   "metadata": {},
   "outputs": [],
   "source": [
    "%run ../credentials.ipynb"
   ]
  },
  {
   "cell_type": "code",
   "execution_count": 9,
   "id": "cb4a756d-ed3d-4c9f-8254-9da03967a062",
   "metadata": {},
   "outputs": [],
   "source": [
    "GOOGLE_API_KEY = GOOGLE_KEY\n",
    "client = genai.Client(api_key=GOOGLE_API_KEY)"
   ]
  },
  {
   "cell_type": "markdown",
   "id": "577ac89d-93c2-4e6f-a210-9ce09483ce8d",
   "metadata": {},
   "source": [
    "Choose a model"
   ]
  },
  {
   "cell_type": "code",
   "execution_count": 10,
   "id": "fbc89a10-587d-4e95-9069-b3c6fe97aa80",
   "metadata": {},
   "outputs": [],
   "source": [
    "MODEL_ID = \"gemini-2.0-flash\" # @param [\"gemini-1.5-flash-latest\",\"gemini-2.0-flash-lite\",\"gemini-2.0-flash\",\"gemini-2.0-pro-exp-02-05\"] {\"allow-input\":true, isTemplate: true}"
   ]
  },
  {
   "cell_type": "code",
   "execution_count": 11,
   "id": "bb09d2ae-a712-4fd6-87c7-6e454b85b202",
   "metadata": {},
   "outputs": [],
   "source": [
    "from google.genai import types\n",
    "def add(a: float, b: float):\n",
    "    \"\"\"returns a + b.\"\"\"\n",
    "    return a + b\n",
    "\n",
    "\n",
    "def subtract(a: float, b: float):\n",
    "    \"\"\"returns a - b.\"\"\"\n",
    "    return a - b\n",
    "\n",
    "\n",
    "def multiply(a: float, b: float):\n",
    "    \"\"\"returns a * b.\"\"\"\n",
    "    return a * b\n",
    "\n",
    "\n",
    "def divide(a: float, b: float):\n",
    "    \"\"\"returns a / b.\"\"\"\n",
    "    return a / b\n",
    "\n",
    "\n",
    "operation_tools = [add, subtract, multiply, divide]"
   ]
  },
  {
   "cell_type": "code",
   "execution_count": 12,
   "id": "8bc89858-ed45-468a-991b-9b47e21f8780",
   "metadata": {},
   "outputs": [],
   "source": [
    "chat = client.chats.create(\n",
    "    model = MODEL_ID,\n",
    "    config = {\n",
    "        \"tools\": operation_tools,\n",
    "        \"automatic_function_calling\": {\"disable\": False} # This line is not needed as automatic_function_calling is enabled by default\n",
    "    }\n",
    ")"
   ]
  },
  {
   "cell_type": "code",
   "execution_count": 13,
   "id": "ed0336b9-0f80-434c-9f88-4e2b9c09aac8",
   "metadata": {},
   "outputs": [
    {
     "data": {
      "text/plain": [
       "'That would be 2508 mittens in total.'"
      ]
     },
     "execution_count": 13,
     "metadata": {},
     "output_type": "execute_result"
    }
   ],
   "source": [
    "response = chat.send_message(\n",
    "    \"I have 57 cats, each owns 44 mittens, how many mittens is that in total?\"\n",
    ")\n",
    "response.text"
   ]
  },
  {
   "cell_type": "code",
   "execution_count": 14,
   "id": "9e4b2840-8eef-46c3-952d-09ee2714ec45",
   "metadata": {},
   "outputs": [
    {
     "data": {
      "text/plain": [
       "'That would be 160 mittens in total.'"
      ]
     },
     "execution_count": 14,
     "metadata": {},
     "output_type": "execute_result"
    }
   ],
   "source": [
    "response = chat.send_message(\n",
    "    \"I have 4 dogs, each owns 40 mittens, how many mittens is that in total?\"\n",
    ")\n",
    "response.text"
   ]
  },
  {
   "cell_type": "code",
   "execution_count": null,
   "id": "75752386-8316-4317-8554-bb4c7182d251",
   "metadata": {},
   "outputs": [],
   "source": [
    "def get_data_"
   ]
  }
 ],
 "metadata": {
  "kernelspec": {
   "display_name": "Python 3 (ipykernel)",
   "language": "python",
   "name": "python3"
  },
  "language_info": {
   "codemirror_mode": {
    "name": "ipython",
    "version": 3
   },
   "file_extension": ".py",
   "mimetype": "text/x-python",
   "name": "python",
   "nbconvert_exporter": "python",
   "pygments_lexer": "ipython3",
   "version": "3.11.11"
  }
 },
 "nbformat": 4,
 "nbformat_minor": 5
}
